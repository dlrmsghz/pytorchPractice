{
 "cells": [
  {
   "cell_type": "code",
   "execution_count": 1,
   "id": "5ee95769-9a14-4770-b92b-d772c7b68774",
   "metadata": {},
   "outputs": [],
   "source": [
    "import os\n",
    "import torch\n",
    "from torch import nn\n",
    "from torch.utils.data import DataLoader\n",
    "from torchvision import datasets, transforms"
   ]
  },
  {
   "cell_type": "code",
   "execution_count": 2,
   "id": "687f5836-f61c-48db-b710-443bc64be270",
   "metadata": {},
   "outputs": [
    {
     "name": "stdout",
     "output_type": "stream",
     "text": [
      "Using cuda device\n"
     ]
    }
   ],
   "source": [
    "device = (\n",
    "    \"cuda\"\n",
    "    if torch.cuda.is_available()\n",
    "    else \"mps\"\n",
    "    if torch.backends.mps.is_available()\n",
    "    else \"cpu\"\n",
    ")\n",
    "print(f\"Using {device} device\")"
   ]
  },
  {
   "cell_type": "code",
   "execution_count": 3,
   "id": "73a69546-f754-4d03-8dc8-ed2760fa54ae",
   "metadata": {},
   "outputs": [],
   "source": [
    "class NeuralNetwork(nn.Module):\n",
    "    def __init__(self):\n",
    "        super().__init__()\n",
    "        self.flatten = nn.Flatten()\n",
    "        self.linear_relu_stack = nn.Sequential(\n",
    "            nn.Linear(28*28, 512),\n",
    "            nn.ReLU(),\n",
    "            nn.Linear(512, 512),\n",
    "            nn.ReLU(),\n",
    "            nn.Linear(512, 10),\n",
    "        )\n",
    "\n",
    "    def forward(self, x):\n",
    "        x = self.flatten(x)\n",
    "        logits = self.linear_relu_stack(x)\n",
    "        return logits"
   ]
  },
  {
   "cell_type": "code",
   "execution_count": 4,
   "id": "336cf4d5-f035-455c-b362-f109fc45d59d",
   "metadata": {},
   "outputs": [
    {
     "name": "stdout",
     "output_type": "stream",
     "text": [
      "NeuralNetwork(\n",
      "  (flatten): Flatten(start_dim=1, end_dim=-1)\n",
      "  (linear_relu_stack): Sequential(\n",
      "    (0): Linear(in_features=784, out_features=512, bias=True)\n",
      "    (1): ReLU()\n",
      "    (2): Linear(in_features=512, out_features=512, bias=True)\n",
      "    (3): ReLU()\n",
      "    (4): Linear(in_features=512, out_features=10, bias=True)\n",
      "  )\n",
      ")\n"
     ]
    }
   ],
   "source": [
    "model = NeuralNetwork().to(device)\n",
    "print(model)"
   ]
  },
  {
   "cell_type": "code",
   "execution_count": 5,
   "id": "2023e64b-a236-4827-8882-a860a6902113",
   "metadata": {},
   "outputs": [
    {
     "name": "stdout",
     "output_type": "stream",
     "text": [
      "Predicted class: tensor([2], device='cuda:0')\n"
     ]
    }
   ],
   "source": [
    "X = torch.rand(1, 28, 28, device=device)\n",
    "logits = model(X)\n",
    "pred_probab = nn.Softmax(dim=1)(logits)\n",
    "y_pred = pred_probab.argmax(1)\n",
    "print(f\"Predicted class: {y_pred}\")"
   ]
  },
  {
   "cell_type": "code",
   "execution_count": 9,
   "id": "3d373cec-2b8b-4780-a95e-8d9217b48705",
   "metadata": {},
   "outputs": [
    {
     "name": "stdout",
     "output_type": "stream",
     "text": [
      "input_image.size() : torch.Size([3, 28, 28])\n"
     ]
    }
   ],
   "source": [
    "input_image = torch.rand(3,28,28)\n",
    "# print(f\"input_image : {input_image}\")\n",
    "print(f\"input_image.size() : {input_image.size()}\")"
   ]
  },
  {
   "cell_type": "code",
   "execution_count": 11,
   "id": "99bb5a28-38e9-4d64-b1d1-f91e0d211acc",
   "metadata": {},
   "outputs": [
    {
     "name": "stdout",
     "output_type": "stream",
     "text": [
      "input_image : tensor([[[0.5431, 0.5771, 0.6900, 0.1042, 0.4640],\n",
      "         [0.7301, 0.8296, 0.7359, 0.9679, 0.0300],\n",
      "         [0.1793, 0.9274, 0.3789, 0.3394, 0.4966],\n",
      "         [0.6124, 0.4974, 0.1060, 0.9923, 0.9907],\n",
      "         [0.4070, 0.6833, 0.7473, 0.2705, 0.6173]],\n",
      "\n",
      "        [[0.8602, 0.7359, 0.5154, 0.4029, 0.1092],\n",
      "         [0.7905, 0.3598, 0.7245, 0.9655, 0.7321],\n",
      "         [0.0778, 0.2476, 0.5306, 0.4616, 0.6414],\n",
      "         [0.1801, 0.9488, 0.6743, 0.5339, 0.8331],\n",
      "         [0.7867, 0.1605, 0.6082, 0.1590, 0.9476]],\n",
      "\n",
      "        [[0.0814, 0.7015, 0.2252, 0.5246, 0.4299],\n",
      "         [0.5923, 0.6198, 0.3995, 0.3880, 0.9634],\n",
      "         [0.9590, 0.7950, 0.8489, 0.9346, 0.5538],\n",
      "         [0.1094, 0.0293, 0.7447, 0.5261, 0.4558],\n",
      "         [0.1474, 0.5555, 0.4724, 0.4291, 0.3096]]])\n",
      "input_image.size() : torch.Size([3, 5, 5])\n"
     ]
    }
   ],
   "source": [
    "input_image = torch.rand(3,5,5)\n",
    "print(f\"input_image : {input_image}\")\n",
    "print(f\"input_image.size() : {input_image.size()}\")"
   ]
  },
  {
   "cell_type": "markdown",
   "id": "47c64cd3-34b1-4477-bde4-01ba29ee1d38",
   "metadata": {},
   "source": [
    "랜덤 사진을 누름"
   ]
  },
  {
   "cell_type": "code",
   "execution_count": 13,
   "id": "f9d3abde-d7b2-4835-b909-2873da826c5a",
   "metadata": {},
   "outputs": [
    {
     "name": "stdout",
     "output_type": "stream",
     "text": [
      "flat_image : tensor([[0.5431, 0.5771, 0.6900, 0.1042, 0.4640, 0.7301, 0.8296, 0.7359, 0.9679,\n",
      "         0.0300, 0.1793, 0.9274, 0.3789, 0.3394, 0.4966, 0.6124, 0.4974, 0.1060,\n",
      "         0.9923, 0.9907, 0.4070, 0.6833, 0.7473, 0.2705, 0.6173],\n",
      "        [0.8602, 0.7359, 0.5154, 0.4029, 0.1092, 0.7905, 0.3598, 0.7245, 0.9655,\n",
      "         0.7321, 0.0778, 0.2476, 0.5306, 0.4616, 0.6414, 0.1801, 0.9488, 0.6743,\n",
      "         0.5339, 0.8331, 0.7867, 0.1605, 0.6082, 0.1590, 0.9476],\n",
      "        [0.0814, 0.7015, 0.2252, 0.5246, 0.4299, 0.5923, 0.6198, 0.3995, 0.3880,\n",
      "         0.9634, 0.9590, 0.7950, 0.8489, 0.9346, 0.5538, 0.1094, 0.0293, 0.7447,\n",
      "         0.5261, 0.4558, 0.1474, 0.5555, 0.4724, 0.4291, 0.3096]])\n",
      "flat_image.size() : torch.Size([3, 25])\n"
     ]
    }
   ],
   "source": [
    "flatten = nn.Flatten()\n",
    "flat_image = flatten(input_image)\n",
    "print(f\"flat_image : {flat_image}\")\n",
    "print(f\"flat_image.size() : {flat_image.size()}\")"
   ]
  },
  {
   "cell_type": "code",
   "execution_count": 20,
   "id": "475063d1-4cec-4c07-9fd3-5a6687c323e1",
   "metadata": {},
   "outputs": [
    {
     "name": "stdout",
     "output_type": "stream",
     "text": [
      "hidden1 : tensor([[-0.4894, -0.4525, -0.2711, -0.3933,  0.2165,  0.6037,  0.6165,  0.1974,\n",
      "          0.0564, -0.4755,  0.5884, -0.2116, -0.3823, -0.0833, -0.5015,  0.2604,\n",
      "          0.4620,  0.1683,  0.1749, -0.5067],\n",
      "        [-0.1337, -0.5409, -0.3594, -0.1769,  0.2213,  0.5014,  0.7773, -0.0842,\n",
      "         -0.0931, -0.5112,  0.6038, -0.2593, -0.2912, -0.0431, -0.2619,  0.4281,\n",
      "          0.1016,  0.2302,  0.2646, -0.4212],\n",
      "        [ 0.0072, -0.2226, -0.2638,  0.1355, -0.0898,  0.6755,  0.3448,  0.1602,\n",
      "         -0.2588, -0.4499,  0.4740,  0.1361, -0.1944, -0.0424, -0.2559,  0.0876,\n",
      "          0.2954,  0.1001, -0.0347, -0.5739]], grad_fn=<AddmmBackward0>)\n",
      "hidden1.size() : torch.Size([3, 20])\n"
     ]
    }
   ],
   "source": [
    "layer1 = nn.Linear(in_features=5*5, out_features=20)\n",
    "hidden1 = layer1(flat_image)\n",
    "print(f\"hidden1 : {hidden1}\")\n",
    "print(f\"hidden1.size() : {hidden1.size()}\")"
   ]
  },
  {
   "cell_type": "markdown",
   "id": "5630b44c-ef05-4a91-9788-bb0655073838",
   "metadata": {},
   "source": [
    " # matplotlib 사용 hidden layer 피처맵 시각화"
   ]
  },
  {
   "cell_type": "code",
   "execution_count": 22,
   "id": "b182a019-cc26-456e-a02f-839e4021dfb1",
   "metadata": {},
   "outputs": [
    {
     "data": {
      "image/png": "[encoded data removed]",
      "text/plain": [
       "<Figure size 640x480 with 1 Axes>"
      ]
     },
     "metadata": {},
     "output_type": "display_data"
    }
   ],
   "source": [
    "import matplotlib.pyplot as plt\n",
    "\n",
    "# 히스토그램으로 시각화\n",
    "plt.hist(hidden1.detach().numpy())\n",
    "plt.show()"
   ]
  },
  {
   "cell_type": "code",
   "execution_count": 31,
   "id": "0fcf2314-f463-49c4-8d9a-ce70ca472eff",
   "metadata": {},
   "outputs": [
    {
     "data": {
      "image/png": "[encoded data removed]",
      "text/plain": [
       "<Figure size 640x480 with 1 Axes>"
      ]
     },
     "metadata": {},
     "output_type": "display_data"
    }
   ],
   "source": [
    "# 이미지로 시각화 (28x28 이미지로 변환 필요)\n",
    "# image = hidden1.detach().view(28, 28).numpy()\n",
    "image = hidden1.detach().view(3, 20).numpy()\n",
    "plt.imshow(image, cmap='gray')\n",
    "plt.show()"
   ]
  },
  {
   "cell_type": "code",
   "execution_count": 32,
   "id": "16151f77-f01b-40ec-960e-91daf042184e",
   "metadata": {},
   "outputs": [
    {
     "name": "stdout",
     "output_type": "stream",
     "text": [
      "Before ReLU: tensor([[-0.4894, -0.4525, -0.2711, -0.3933,  0.2165,  0.6037,  0.6165,  0.1974,\n",
      "          0.0564, -0.4755,  0.5884, -0.2116, -0.3823, -0.0833, -0.5015,  0.2604,\n",
      "          0.4620,  0.1683,  0.1749, -0.5067],\n",
      "        [-0.1337, -0.5409, -0.3594, -0.1769,  0.2213,  0.5014,  0.7773, -0.0842,\n",
      "         -0.0931, -0.5112,  0.6038, -0.2593, -0.2912, -0.0431, -0.2619,  0.4281,\n",
      "          0.1016,  0.2302,  0.2646, -0.4212],\n",
      "        [ 0.0072, -0.2226, -0.2638,  0.1355, -0.0898,  0.6755,  0.3448,  0.1602,\n",
      "         -0.2588, -0.4499,  0.4740,  0.1361, -0.1944, -0.0424, -0.2559,  0.0876,\n",
      "          0.2954,  0.1001, -0.0347, -0.5739]], grad_fn=<AddmmBackward0>)\n",
      "\n",
      "\n",
      "After ReLU: tensor([[0.0000, 0.0000, 0.0000, 0.0000, 0.2165, 0.6037, 0.6165, 0.1974, 0.0564,\n",
      "         0.0000, 0.5884, 0.0000, 0.0000, 0.0000, 0.0000, 0.2604, 0.4620, 0.1683,\n",
      "         0.1749, 0.0000],\n",
      "        [0.0000, 0.0000, 0.0000, 0.0000, 0.2213, 0.5014, 0.7773, 0.0000, 0.0000,\n",
      "         0.0000, 0.6038, 0.0000, 0.0000, 0.0000, 0.0000, 0.4281, 0.1016, 0.2302,\n",
      "         0.2646, 0.0000],\n",
      "        [0.0072, 0.0000, 0.0000, 0.1355, 0.0000, 0.6755, 0.3448, 0.1602, 0.0000,\n",
      "         0.0000, 0.4740, 0.1361, 0.0000, 0.0000, 0.0000, 0.0876, 0.2954, 0.1001,\n",
      "         0.0000, 0.0000]], grad_fn=<ReluBackward0>)\n"
     ]
    }
   ],
   "source": [
    "print(f\"Before ReLU: {hidden1}\\n\\n\")\n",
    "hidden1 = nn.ReLU()(hidden1)\n",
    "print(f\"After ReLU: {hidden1}\")"
   ]
  },
  {
   "cell_type": "code",
   "execution_count": 34,
   "id": "5f833dc4-4544-4f84-a838-a8d5129fdb3b",
   "metadata": {},
   "outputs": [],
   "source": [
    "seq_modules = nn.Sequential(\n",
    "    flatten,\n",
    "    layer1,\n",
    "    nn.ReLU(),\n",
    "    nn.Linear(20, 10)\n",
    ")\n",
    "input_image = torch.rand(3,5,5)\n",
    "logits = seq_modules(input_image)"
   ]
  },
  {
   "cell_type": "markdown",
   "id": "c826ca0e-0c93-4768-bd55-b1af70a00c33",
   "metadata": {},
   "source": [
    "nn.Sequential은 PyTorch에서 제공하는 순차적 컨테이너 클래스입니다.   \n",
    "\n",
    "장점:  \n",
    "\n",
    "간단하고 직관적인 방식으로 모델을 정의할 수 있습니다.  \n",
    "코드를 간결하게 만들 수 있습니다.  \n",
    "레이어를 쉽게 추가하거나 제거할 수 있습니다.  \n",
    "단점:  \n",
    "\n",
    "모델 구조가 복잡해지면 코드를 이해하기 어려울 수 있습니다.  \n",
    "레이어 간의 연결을 직접 제어할 수 없습니다.  "
   ]
  },
  {
   "cell_type": "code",
   "execution_count": 36,
   "id": "616cf454-fa16-4125-a1ec-30a5cd47dc21",
   "metadata": {},
   "outputs": [
    {
     "data": {
      "text/plain": [
       "'\\nimport torch.nn as nn\\n\\n# 레이어 정의\\nlayer1 = nn.Linear(in_features=10, out_features=20)\\nlayer2 = nn.ReLU()\\nlayer3 = nn.Linear(in_features=20, out_features=10)\\n\\n# 모델 생성\\nmodel = nn.Sequential(layer1, layer2, layer3)\\n\\n# 모델 사용\\ninput = torch.randn(10)\\noutput = model(input)\\n'"
      ]
     },
     "execution_count": 36,
     "metadata": {},
     "output_type": "execute_result"
    }
   ],
   "source": [
    "'''\n",
    "import torch.nn as nn\n",
    "\n",
    "# 레이어 정의\n",
    "layer1 = nn.Linear(in_features=10, out_features=20)\n",
    "layer2 = nn.ReLU()\n",
    "layer3 = nn.Linear(in_features=20, out_features=10)\n",
    "\n",
    "# 모델 생성\n",
    "model = nn.Sequential(layer1, layer2, layer3)\n",
    "\n",
    "# 모델 사용\n",
    "input = torch.randn(10)\n",
    "output = model(input)\n",
    "'''"
   ]
  },
  {
   "cell_type": "code",
   "execution_count": 38,
   "id": "96edf693-83fd-4f8c-985d-ceb7bc146c44",
   "metadata": {},
   "outputs": [
    {
     "data": {
      "text/plain": [
       "'\\n보통 layer 만 적는데 \\nlayer1 = nn.Linear(in_features=28*28, out_features=20)\\nhidden1 = layer1(flat_image)\\nprint(hidden1.size())\\n과 같이 히든 레이어를 찍어보는 이유는 다음과 같음\\n\\n1. 피처맵 확인\\n\\nhidden1 변수는 layer1 레이어의 출력을 저장합니다. 이를 통해 모델 학습 과정에서 중간 레이어의 피처맵을 확인할 수 있습니다.\\n\\n2. 모델 디버깅\\n\\n중간 레이어의 출력을 확인하여 모델 작동 방식을 디버깅하고 문제점을 파악할 수 있습니다.\\n\\n3. 모델 개선\\n\\n중간 레이어의 출력을 분석하여 모델 구조나 하이퍼파라미터를 개선할 수 있습니다.\\n\\n4. 시각화\\n\\nmatplotlib 등의 라이브러리를 사용하여 hidden1 변수를 시각화하여 모델 작동 방식을 더 잘 이해할 수 있습니다.\\n\\n5. 추가 분석\\n\\nhidden1 변수를 사용하여 피처맵의 평균, 표준 편차, 히스토그램 등을 계산하여 모델에 대한 추가 분석을 수행할 수 있습니다.\\n\\n\\n'"
      ]
     },
     "execution_count": 38,
     "metadata": {},
     "output_type": "execute_result"
    }
   ],
   "source": [
    "'''\n",
    "보통 layer 만 적는데 \n",
    "layer1 = nn.Linear(in_features=28*28, out_features=20)\n",
    "hidden1 = layer1(flat_image)\n",
    "print(hidden1.size())\n",
    "과 같이 히든 레이어를 찍어보는 이유는 다음과 같음\n",
    "\n",
    "1. 피처맵 확인\n",
    "\n",
    "hidden1 변수는 layer1 레이어의 출력을 저장합니다. 이를 통해 모델 학습 과정에서 중간 레이어의 피처맵을 확인할 수 있습니다.\n",
    "\n",
    "2. 모델 디버깅\n",
    "\n",
    "중간 레이어의 출력을 확인하여 모델 작동 방식을 디버깅하고 문제점을 파악할 수 있습니다.\n",
    "\n",
    "3. 모델 개선\n",
    "\n",
    "중간 레이어의 출력을 분석하여 모델 구조나 하이퍼파라미터를 개선할 수 있습니다.\n",
    "\n",
    "4. 시각화\n",
    "\n",
    "matplotlib 등의 라이브러리를 사용하여 hidden1 변수를 시각화하여 모델 작동 방식을 더 잘 이해할 수 있습니다.\n",
    "\n",
    "5. 추가 분석\n",
    "\n",
    "hidden1 변수를 사용하여 피처맵의 평균, 표준 편차, 히스토그램 등을 계산하여 모델에 대한 추가 분석을 수행할 수 있습니다.\n",
    "\n",
    "\n",
    "'''"
   ]
  },
  {
   "cell_type": "markdown",
   "id": "2d18cee6-4c1e-43a0-905e-5b07d9f5187f",
   "metadata": {
    "tags": []
   },
   "source": [
    "# 주의 사항\n",
    "\n",
    "# 모델 학습 과정에서 중간 레이어의 출력을 확인하면 모델 성능 저하를 초래할 수 있습니다."
   ]
  },
  {
   "cell_type": "code",
   "execution_count": 39,
   "id": "29870598-35f2-4b90-a30c-9bd68cf4afb5",
   "metadata": {},
   "outputs": [],
   "source": [
    "softmax = nn.Softmax(dim=1)\n",
    "pred_probab = softmax(logits)"
   ]
  },
  {
   "cell_type": "code",
   "execution_count": 40,
   "id": "3fdefe59-fbca-4bb4-9e38-9718a7fc98c5",
   "metadata": {},
   "outputs": [
    {
     "name": "stdout",
     "output_type": "stream",
     "text": [
      "Model structure: NeuralNetwork(\n",
      "  (flatten): Flatten(start_dim=1, end_dim=-1)\n",
      "  (linear_relu_stack): Sequential(\n",
      "    (0): Linear(in_features=784, out_features=512, bias=True)\n",
      "    (1): ReLU()\n",
      "    (2): Linear(in_features=512, out_features=512, bias=True)\n",
      "    (3): ReLU()\n",
      "    (4): Linear(in_features=512, out_features=10, bias=True)\n",
      "  )\n",
      ")\n",
      "\n",
      "\n",
      "Layer: linear_relu_stack.0.weight | Size: torch.Size([512, 784]) | Values : tensor([[ 0.0236, -0.0008,  0.0065,  ..., -0.0288, -0.0020, -0.0201],\n",
      "        [ 0.0214, -0.0300, -0.0346,  ..., -0.0237,  0.0306,  0.0020]],\n",
      "       device='cuda:0', grad_fn=<SliceBackward0>) \n",
      "\n",
      "Layer: linear_relu_stack.0.bias | Size: torch.Size([512]) | Values : tensor([-0.0278,  0.0081], device='cuda:0', grad_fn=<SliceBackward0>) \n",
      "\n",
      "Layer: linear_relu_stack.2.weight | Size: torch.Size([512, 512]) | Values : tensor([[-0.0016, -0.0326, -0.0175,  ..., -0.0254, -0.0108,  0.0014],\n",
      "        [-0.0028,  0.0138,  0.0103,  ..., -0.0429,  0.0221,  0.0284]],\n",
      "       device='cuda:0', grad_fn=<SliceBackward0>) \n",
      "\n",
      "Layer: linear_relu_stack.2.bias | Size: torch.Size([512]) | Values : tensor([ 0.0241, -0.0077], device='cuda:0', grad_fn=<SliceBackward0>) \n",
      "\n",
      "Layer: linear_relu_stack.4.weight | Size: torch.Size([10, 512]) | Values : tensor([[-0.0054, -0.0368,  0.0298,  ...,  0.0041, -0.0305, -0.0005],\n",
      "        [ 0.0043,  0.0377,  0.0322,  ..., -0.0298, -0.0036,  0.0224]],\n",
      "       device='cuda:0', grad_fn=<SliceBackward0>) \n",
      "\n",
      "Layer: linear_relu_stack.4.bias | Size: torch.Size([10]) | Values : tensor([ 0.0043, -0.0439], device='cuda:0', grad_fn=<SliceBackward0>) \n",
      "\n"
     ]
    }
   ],
   "source": [
    "print(f\"Model structure: {model}\\n\\n\")\n",
    "\n",
    "for name, param in model.named_parameters():\n",
    "    print(f\"Layer: {name} | Size: {param.size()} | Values : {param[:2]} \\n\")"
   ]
  },
  {
   "cell_type": "code",
   "execution_count": null,
   "id": "ad32e469-c0cd-446e-901d-09c4e37861a8",
   "metadata": {},
   "outputs": [],
   "source": []
  }
 ],
 "metadata": {
  "kernelspec": {
   "display_name": "SDE",
   "language": "python",
   "name": "sde"
  },
  "language_info": {
   "codemirror_mode": {
    "name": "ipython",
    "version": 3
   },
   "file_extension": ".py",
   "mimetype": "text/x-python",
   "name": "python",
   "nbconvert_exporter": "python",
   "pygments_lexer": "ipython3",
   "version": "3.8.18"
  }
 },
 "nbformat": 4,
 "nbformat_minor": 5
}

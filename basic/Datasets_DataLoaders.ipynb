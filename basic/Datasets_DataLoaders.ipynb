{
 "cells": [
  {
   "cell_type": "code",
   "execution_count": 1,
   "id": "1df9622b-80fc-4ed0-a82e-9afb235e01d0",
   "metadata": {},
   "outputs": [
    {
     "name": "stdout",
     "output_type": "stream",
     "text": [
      "Downloading http://fashion-mnist.s3-website.eu-central-1.amazonaws.com/train-images-idx3-ubyte.gz\n",
      "Downloading http://fashion-mnist.s3-website.eu-central-1.amazonaws.com/train-images-idx3-ubyte.gz to data\\FashionMNIST\\raw\\train-images-idx3-ubyte.gz\n"
     ]
    },
    {
     "data": {
      "application/vnd.jupyter.widget-view+json": {
       "model_id": "88ffb658bb654a47807b5e9fc63a121e",
       "version_major": 2,
       "version_minor": 0
      },
      "text/plain": [
       "  0%|          | 0/26421880 [00:00<?, ?it/s]"
      ]
     },
     "metadata": {},
     "output_type": "display_data"
    },
    {
     "name": "stdout",
     "output_type": "stream",
     "text": [
      "Extracting data\\FashionMNIST\\raw\\train-images-idx3-ubyte.gz to data\\FashionMNIST\\raw\n",
      "\n",
      "Downloading http://fashion-mnist.s3-website.eu-central-1.amazonaws.com/train-labels-idx1-ubyte.gz\n",
      "Downloading http://fashion-mnist.s3-website.eu-central-1.amazonaws.com/train-labels-idx1-ubyte.gz to data\\FashionMNIST\\raw\\train-labels-idx1-ubyte.gz\n"
     ]
    },
    {
     "data": {
      "application/vnd.jupyter.widget-view+json": {
       "model_id": "b16a743e491c4783b1f36c21095c24e7",
       "version_major": 2,
       "version_minor": 0
      },
      "text/plain": [
       "  0%|          | 0/29515 [00:00<?, ?it/s]"
      ]
     },
     "metadata": {},
     "output_type": "display_data"
    },
    {
     "name": "stdout",
     "output_type": "stream",
     "text": [
      "Extracting data\\FashionMNIST\\raw\\train-labels-idx1-ubyte.gz to data\\FashionMNIST\\raw\n",
      "\n",
      "Downloading http://fashion-mnist.s3-website.eu-central-1.amazonaws.com/t10k-images-idx3-ubyte.gz\n",
      "Downloading http://fashion-mnist.s3-website.eu-central-1.amazonaws.com/t10k-images-idx3-ubyte.gz to data\\FashionMNIST\\raw\\t10k-images-idx3-ubyte.gz\n"
     ]
    },
    {
     "data": {
      "application/vnd.jupyter.widget-view+json": {
       "model_id": "985ac4e94ae443128420517c40a15a7b",
       "version_major": 2,
       "version_minor": 0
      },
      "text/plain": [
       "  0%|          | 0/4422102 [00:00<?, ?it/s]"
      ]
     },
     "metadata": {},
     "output_type": "display_data"
    },
    {
     "name": "stdout",
     "output_type": "stream",
     "text": [
      "Extracting data\\FashionMNIST\\raw\\t10k-images-idx3-ubyte.gz to data\\FashionMNIST\\raw\n",
      "\n",
      "Downloading http://fashion-mnist.s3-website.eu-central-1.amazonaws.com/t10k-labels-idx1-ubyte.gz\n",
      "Downloading http://fashion-mnist.s3-website.eu-central-1.amazonaws.com/t10k-labels-idx1-ubyte.gz to data\\FashionMNIST\\raw\\t10k-labels-idx1-ubyte.gz\n"
     ]
    },
    {
     "data": {
      "application/vnd.jupyter.widget-view+json": {
       "model_id": "e03546b17daa4b949c49ea063e62590d",
       "version_major": 2,
       "version_minor": 0
      },
      "text/plain": [
       "  0%|          | 0/5148 [00:00<?, ?it/s]"
      ]
     },
     "metadata": {},
     "output_type": "display_data"
    },
    {
     "name": "stdout",
     "output_type": "stream",
     "text": [
      "Extracting data\\FashionMNIST\\raw\\t10k-labels-idx1-ubyte.gz to data\\FashionMNIST\\raw\n",
      "\n"
     ]
    }
   ],
   "source": [
    "import torch\n",
    "from torch.utils.data import Dataset\n",
    "from torchvision import datasets\n",
    "from torchvision.transforms import ToTensor\n",
    "import matplotlib.pyplot as plt\n",
    "\n",
    "\n",
    "training_data = datasets.FashionMNIST(\n",
    "    root=\"data\",\n",
    "    train=True,\n",
    "    download=True,\n",
    "    transform=ToTensor()\n",
    ")\n",
    "\n",
    "test_data = datasets.FashionMNIST(\n",
    "    root=\"data\",\n",
    "    train=False,\n",
    "    download=True,\n",
    "    transform=ToTensor()\n",
    ")"
   ]
  },
  {
   "cell_type": "code",
   "execution_count": 2,
   "id": "57a9ac2a-0e91-4d40-84aa-531c4e8c789f",
   "metadata": {},
   "outputs": [
    {
     "data": {
      "image/png": "[encoded data removed]",
      "text/plain": [
       "<Figure size 800x800 with 9 Axes>"
      ]
     },
     "metadata": {},
     "output_type": "display_data"
    }
   ],
   "source": [
    "labels_map = {\n",
    "    0: \"T-Shirt\",\n",
    "    1: \"Trouser\",\n",
    "    2: \"Pullover\",\n",
    "    3: \"Dress\",\n",
    "    4: \"Coat\",\n",
    "    5: \"Sandal\",\n",
    "    6: \"Shirt\",\n",
    "    7: \"Sneaker\",\n",
    "    8: \"Bag\",\n",
    "    9: \"Ankle Boot\",\n",
    "}\n",
    "figure = plt.figure(figsize=(8, 8))\n",
    "cols, rows = 3, 3\n",
    "for i in range(1, cols * rows + 1):\n",
    "    sample_idx = torch.randint(len(training_data), size=(1,)).item()  # 균일 분포에서 랜덤 숫자 생성.\n",
    "    img, label = training_data[sample_idx]\n",
    "    figure.add_subplot(rows, cols, i)\n",
    "    plt.title(labels_map[label])\n",
    "    plt.axis(\"off\")\n",
    "    plt.imshow(img.squeeze(), cmap=\"gray\")\n",
    "plt.show()"
   ]
  },
  {
   "cell_type": "code",
   "execution_count": 6,
   "id": "5e1cdc0a-354d-4f18-a58e-b3a1e516c13f",
   "metadata": {},
   "outputs": [
    {
     "name": "stdout",
     "output_type": "stream",
     "text": [
      "\n",
      "exp1 : tensor([7, 3, 7, 3, 1])\n",
      "exp2 : tensor([[16, 16, 19],\n",
      "        [18, 16, 16],\n",
      "        [18, 14, 13]])\n",
      "exp3 : tensor([[4, 9, 3],\n",
      "        [0, 3, 9]])\n",
      "exp4 : tensor([[7, 3, 7],\n",
      "        [3, 1, 6]])\n",
      "exp5 : tensor([[4, 9, 3],\n",
      "        [0, 3, 9]])\n"
     ]
    }
   ],
   "source": [
    "# torch.randint(len(training_data), size=(1,))  # 균일 분포에서 랜덤 숫자 생성.\n",
    "\n",
    "# 0에서 10 사이의 숫자 5개를 생성\n",
    "exp1 = torch.randint(0, 10, (5,))\n",
    "\n",
    "print(f\"\")\n",
    "\n",
    "# 10에서 20 사이의 숫자 3x3 텐서 생성\n",
    "exp2 = torch.randint(10, 20, (3, 3))\n",
    "\n",
    "# 0에서 10 사이의 숫자 2x3 텐서 생성, seed 값 고정\n",
    "torch.manual_seed(0) # torch.manual_seed() 함수를 사용하여 랜덤 시드를 설정하면 매번 동일한 결과를 얻을 수 있습니다.\n",
    "exp3 = torch.randint(0, 10, (2, 3))\n",
    "exp4 = torch.randint(0, 10, (2, 3))\n",
    "torch.manual_seed(0)\n",
    "exp5 = torch.randint(0, 10, (2, 3))\n",
    "\n",
    "print(f\"exp1 : {exp1}\")\n",
    "print(f\"exp2 : {exp2}\")\n",
    "print(f\"exp3 : {exp3}\")\n",
    "print(f\"exp4 : {exp4}\")\n",
    "print(f\"exp5 : {exp5}\")"
   ]
  },
  {
   "cell_type": "markdown",
   "id": "fee031bc-dc13-49c0-ad4d-f995bffca0e5",
   "metadata": {},
   "source": [
    "img.squeeze()는 모든 차원 크기가 1인 축을 제거합니다.\n",
    "\n",
    "## 1. 연산 속도 향상\n",
    "\n",
    "불필요한 차원을 제거하여 메모리 사용량을 줄이고, 연산에 필요한 데이터 접근 시간을 단축합니다.\n",
    "특히, CNN 모델에서 이미지 배열의 채널 축 (예: (1, 28, 28, 1)) 을 제거하면 연산 속도 향상 효과가 뚜렷합니다.\n",
    "## 2. 연산 속도 저하\n",
    "\n",
    "모델 구조나 코드에 따라 불필요한 차원 제거가 오히려 연산 속도를 저하시킬 수 있습니다.\n",
    "예를 들어, 배열 reshape 연산이 추가되거나, 특정 차원 정보가 모델에 필요한 경우 속도 저하가 발생할 수 있습니다.\n",
    "## 3. 주의 사항 및 권장 사항\n",
    "\n",
    "squeeze() 사용 전후 모델 성능 및 연산 속도를 비교하여 최적화하는 것이 중요합니다.\n",
    "모델 설계 단계에서 불필요한 차원을 최대한 줄이는 것이 효과적입니다.\n",
    "코드 작성 시, squeeze() 사용으로 인한 연산 속도 변화를 고려하고 주의해야 합니다.\n"
   ]
  },
  {
   "cell_type": "code",
   "execution_count": 8,
   "id": "05707d81-040d-46ec-a628-356f06d01b43",
   "metadata": {},
   "outputs": [],
   "source": [
    "# With custom datas\n",
    "import os\n",
    "import pandas as pd\n",
    "from torchvision.io import read_image\n",
    "\n",
    "class CustomImageDataset(Dataset):\n",
    "    def __init__(self, annotations_file, img_dir, transform=None, target_transform=None):\n",
    "        self.img_labels = pd.read_csv(annotations_file)\n",
    "        self.img_dir = img_dir\n",
    "        self.transform = transform\n",
    "        self.target_transform = target_transform\n",
    "\n",
    "    def __len__(self):\n",
    "        return len(self.img_labels)\n",
    "\n",
    "    def __getitem__(self, idx):\n",
    "        img_path = os.path.join(self.img_dir, self.img_labels.iloc[idx, 0])\n",
    "        image = read_image(img_path)\n",
    "        label = self.img_labels.iloc[idx, 1]\n",
    "        if self.transform:\n",
    "            image = self.transform(image)\n",
    "        if self.target_transform:\n",
    "            label = self.target_transform(label)\n",
    "        return image, label"
   ]
  },
  {
   "cell_type": "markdown",
   "id": "e3ae4ea5-0dda-4db0-a326-b5fe9bb0704f",
   "metadata": {},
   "source": [
    "__init__\n",
    "The __init__ function is run once when instantiating the Dataset object. We initialize the directory containing the images, the annotations file, and both transforms (covered in more detail in the next section).\n",
    "\n",
    "The labels.csv file looks like:"
   ]
  },
  {
   "cell_type": "markdown",
   "id": "2f693d6e-6bbf-48b5-81e1-b41b25d76de6",
   "metadata": {
    "tags": []
   },
   "source": [
    "tshirt1.jpg, 0  \n",
    "tshirt2.jpg, 0  \n",
    "......  \n",
    "ankleboot999.jpg, 9  "
   ]
  },
  {
   "cell_type": "markdown",
   "id": "7c55fa0d-92d3-4372-bf1a-e6236e1694e4",
   "metadata": {
    "tags": []
   },
   "source": [
    "self.transform(): 데이터 변환 함수 또는 객체입니다.  \n",
    "self.target_transform(): 타겟(레이블)에 특정한 데이터 변환 함수 또는 객체입니다."
   ]
  },
  {
   "cell_type": "markdown",
   "id": "cd147dc2-8d83-4cda-b101-78388eb98698",
   "metadata": {},
   "source": [
    "\"__len__\"  \n",
    "The \"__len__\" function returns the number of samples in our dataset.  "
   ]
  },
  {
   "cell_type": "code",
   "execution_count": 10,
   "id": "3b7a0204-49ed-4c74-aaa8-c8717b4c6c97",
   "metadata": {},
   "outputs": [],
   "source": [
    "from torch.utils.data import DataLoader\n",
    "\n",
    "train_dataloader = DataLoader(training_data, batch_size=64, shuffle=True)\n",
    "test_dataloader = DataLoader(test_data, batch_size=64, shuffle=True)"
   ]
  },
  {
   "cell_type": "code",
   "execution_count": 11,
   "id": "5340b80e-a627-4bb6-88be-f8aa104dfc22",
   "metadata": {},
   "outputs": [
    {
     "name": "stdout",
     "output_type": "stream",
     "text": [
      "Feature batch shape: torch.Size([64, 1, 28, 28])\n",
      "Labels batch shape: torch.Size([64])\n"
     ]
    },
    {
     "data": {
      "image/png": "[encoded data removed]",
      "text/plain": [
       "<Figure size 640x480 with 1 Axes>"
      ]
     },
     "metadata": {},
     "output_type": "display_data"
    },
    {
     "name": "stdout",
     "output_type": "stream",
     "text": [
      "Label: 4\n"
     ]
    }
   ],
   "source": [
    "# Display image and label.\n",
    "train_features, train_labels = next(iter(train_dataloader))\n",
    "print(f\"Feature batch shape: {train_features.size()}\")\n",
    "print(f\"Labels batch shape: {train_labels.size()}\")\n",
    "img = train_features[0].squeeze()\n",
    "label = train_labels[0]\n",
    "plt.imshow(img, cmap=\"gray\")\n",
    "plt.show()\n",
    "print(f\"Label: {label}\")"
   ]
  },
  {
   "cell_type": "code",
   "execution_count": null,
   "id": "9f352efd-892f-4f96-9962-ffb67d2c3a29",
   "metadata": {},
   "outputs": [],
   "source": []
  },
  {
   "cell_type": "code",
   "execution_count": null,
   "id": "2a3f3404-c609-4ad4-8ac9-40bfa4d1f047",
   "metadata": {},
   "outputs": [],
   "source": []
  }
 ],
 "metadata": {
  "kernelspec": {
   "display_name": "SDE",
   "language": "python",
   "name": "sde"
  },
  "language_info": {
   "codemirror_mode": {
    "name": "ipython",
    "version": 3
   },
   "file_extension": ".py",
   "mimetype": "text/x-python",
   "name": "python",
   "nbconvert_exporter": "python",
   "pygments_lexer": "ipython3",
   "version": "3.8.18"
  }
 },
 "nbformat": 4,
 "nbformat_minor": 5
}

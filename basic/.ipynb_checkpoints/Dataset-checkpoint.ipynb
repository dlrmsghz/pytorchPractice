{
 "cells": [
  {
   "cell_type": "code",
   "execution_count": 1,
   "id": "907ec49b-956c-4e2b-990a-d1bb40ea22fe",
   "metadata": {},
   "outputs": [],
   "source": [
    "import torch\n",
    "import numpy as np"
   ]
  },
  {
   "cell_type": "code",
   "execution_count": 3,
   "id": "80f73e2d-bb7b-4465-858c-d107c22497cb",
   "metadata": {},
   "outputs": [
    {
     "data": {
      "text/plain": [
       "tensor([[1, 2],\n",
       "        [3, 4]])"
      ]
     },
     "execution_count": 3,
     "metadata": {},
     "output_type": "execute_result"
    }
   ],
   "source": [
    "data = [[1, 2],[3, 4]]\n",
    "x_data = torch.tensor(data)\n",
    "x_data"
   ]
  },
  {
   "cell_type": "code",
   "execution_count": null,
   "id": "5b13b739-6e9f-4353-b9df-777b5792a072",
   "metadata": {},
   "outputs": [],
   "source": [
    "x_data_arrayx_data_array = np.array(data)\n"
   ]
  }
 ],
 "metadata": {
  "kernelspec": {
   "display_name": "SDE",
   "language": "python",
   "name": "sde"
  },
  "language_info": {
   "codemirror_mode": {
    "name": "ipython",
    "version": 3
   },
   "file_extension": ".py",
   "mimetype": "text/x-python",
   "name": "python",
   "nbconvert_exporter": "python",
   "pygments_lexer": "ipython3",
   "version": "3.8.18"
  }
 },
 "nbformat": 4,
 "nbformat_minor": 5
}
